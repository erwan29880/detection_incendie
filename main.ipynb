{
 "cells": [
  {
   "cell_type": "code",
   "execution_count": 1,
   "metadata": {},
   "outputs": [],
   "source": [
    "import os\n",
    "import cv2\n",
    "import matplotlib.pyplot as plt"
   ]
  },
  {
   "cell_type": "markdown",
   "metadata": {},
   "source": [
    "#### renommer les photos : nom incrémentiel"
   ]
  },
  {
   "cell_type": "code",
   "execution_count": 20,
   "metadata": {},
   "outputs": [],
   "source": [
    "def rename_photos(path):\n",
    "    \n",
    "    i = 0\n",
    "    for fichier in os.listdir(path):\n",
    "        name1 = os.path.join(path,fichier)\n",
    "        name2 = str(i)+'.jpg'\n",
    "        name3 = os.path.join(path, name2)\n",
    "        os.rename(name1, name3)\n",
    "        i = i+1"
   ]
  },
  {
   "cell_type": "code",
   "execution_count": 21,
   "metadata": {},
   "outputs": [],
   "source": [
    "# renommer les photos du train\n",
    "rename_photos(\"./images/train\")\n",
    "\n",
    "# renommer les photos du val\n",
    "rename_photos(\"./images/val\")"
   ]
  },
  {
   "cell_type": "markdown",
   "metadata": {},
   "source": [
    "### Labellisation de photos à partir le la webapp 'Make Sense'  \n",
    "\n",
    "#### Import des photos selon l'architecture suivante : \n",
    "\n",
    "| <b>yoloo</b>   \n",
    "------ photos   \n",
    "------------ <i>train</i>   \n",
    "------------ <i>val</i>   \n",
    "------ labels   \n",
    "------------ <i>train</i>   \n",
    "------------ <i>val</i>       \n",
    "\n",
    "Création de deux labels : \n",
    "- feu  (0)  \n",
    "- incendie (1)    \n",
    "\n",
    "Labellisation des images manuellement, puis import des fichiers textes des labels.\n",
    "\n",
    "\n"
   ]
  },
  {
   "cell_type": "markdown",
   "metadata": {},
   "source": [
    "### Entraînement sur Google Colab :  \n",
    "\n",
    "> dossier de travail : /content\n",
    "\n",
    "- import des photos et des labels (dossier compressé), décompression  \n",
    "- création d'un fichier de configuration yaml (<i>custom_data.yaml</i>)\n",
    "- entraînement par data-augmentation avec GPU : \n",
    "    - poids : yolov5x.pt\n",
    "    - labels :\n",
    "        - 0 : feu\n",
    "        - 1 : incendie\n",
    "    "
   ]
  },
  {
   "cell_type": "markdown",
   "metadata": {},
   "source": [
    "### importer yolov5"
   ]
  },
  {
   "cell_type": "code",
   "execution_count": 8,
   "metadata": {},
   "outputs": [],
   "source": [
    "!git clone https://github.com/ultralytics/yolov5\n",
    "import torch\n",
    "import utils"
   ]
  },
  {
   "cell_type": "markdown",
   "metadata": {},
   "source": [
    "### TEST : Lancer la détection pour tester une vidéo (très lent avec CPU)\n",
    "\n",
    "Vidéo créée : <i>video_2.mp4</i>"
   ]
  },
  {
   "cell_type": "code",
   "execution_count": 13,
   "metadata": {},
   "outputs": [],
   "source": [
    "!python detect.py --weights ../best.pt --img 640 --conf 0.25 --source ../video.mp4"
   ]
  },
  {
   "cell_type": "markdown",
   "metadata": {},
   "source": [
    "### lancer l'application streamlit  "
   ]
  },
  {
   "cell_type": "code",
   "execution_count": 124,
   "metadata": {},
   "outputs": [],
   "source": [
    "os.system('streamlit run ./app.py')"
   ]
  }
 ],
 "metadata": {
  "interpreter": {
   "hash": "ffd9d653e9214538f504e464ff3833a5a9fcb4d9bb5140b83680b506c5f379f5"
  },
  "kernelspec": {
   "display_name": "Python 3.8.10 ('.env': venv)",
   "language": "python",
   "name": "python3"
  },
  "language_info": {
   "codemirror_mode": {
    "name": "ipython",
    "version": 3
   },
   "file_extension": ".py",
   "mimetype": "text/x-python",
   "name": "python",
   "nbconvert_exporter": "python",
   "pygments_lexer": "ipython3",
   "version": "3.8.10"
  },
  "orig_nbformat": 4
 },
 "nbformat": 4,
 "nbformat_minor": 2
}
